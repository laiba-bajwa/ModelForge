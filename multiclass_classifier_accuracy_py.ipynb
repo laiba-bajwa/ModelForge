{
  "nbformat": 4,
  "nbformat_minor": 0,
  "metadata": {
    "colab": {
      "provenance": [],
      "authorship_tag": "ABX9TyNPDyN6JyKJdwWGHTmOS7K2",
      "include_colab_link": true
    },
    "kernelspec": {
      "name": "python3",
      "display_name": "Python 3"
    },
    "language_info": {
      "name": "python"
    }
  },
  "cells": [
    {
      "cell_type": "markdown",
      "metadata": {
        "id": "view-in-github",
        "colab_type": "text"
      },
      "source": [
        "<a href=\"https://colab.research.google.com/github/laiba-bajwa/ModelForge/blob/main/multiclass_classifier_accuracy_py.ipynb\" target=\"_parent\"><img src=\"https://colab.research.google.com/assets/colab-badge.svg\" alt=\"Open In Colab\"/></a>"
      ]
    },
    {
      "cell_type": "code",
      "execution_count": null,
      "metadata": {
        "colab": {
          "base_uri": "https://localhost:8080/"
        },
        "id": "kn_PdQpA2eut",
        "outputId": "5f225daa-a8f9-45d4-a2b9-d1d9c1215913"
      },
      "outputs": [
        {
          "output_type": "stream",
          "name": "stdout",
          "text": [
            "✅ All libraries imported successfully!\n",
            "📊 Ready to analyze YOUR custom data with 'multiclass' column\n"
          ]
        }
      ],
      "source": [
        "# Multi-Class Sentiment Classification - Customized for YOUR Data\n",
        "# Your data has 'text' and 'multiclass' columns (not 'sentiment')\n",
        "\n",
        "import pandas as pd           # For data manipulation and analysis\n",
        "import numpy as np           # For numerical operations\n",
        "import matplotlib.pyplot as plt  # For creating plots and visualizations\n",
        "import seaborn as sns        # For statistical data visualization\n",
        "import re                    # For regular expressions (text processing)\n",
        "import string               # For string operations (punctuation removal)\n",
        "import math                 # For mathematical operations\n",
        "import time                 # For timing model training\n",
        "\n",
        "# Sklearn libraries for machine learning and text processing\n",
        "from sklearn.feature_extraction.text import TfidfVectorizer, CountVectorizer\n",
        "from sklearn.naive_bayes import MultinomialNB\n",
        "from sklearn.linear_model import LogisticRegression\n",
        "#Logistic Regression ek model hai jo kisi cheez ko do categories (jaise \"yes\" ya \"no\") mein classify karta hai\n",
        "from sklearn.model_selection import train_test_split\n",
        "from sklearn import metrics\n",
        "\n",
        "# NLTK libraries for natural language processing\n",
        "import nltk\n",
        "from nltk.corpus import stopwords, wordnet\n",
        "from nltk.stem import WordNetLemmatizer, PorterStemmer\n",
        "\n",
        "print(\"✅ All libraries imported successfully!\")\n",
        "print(\"📊 Ready to analyze YOUR custom data with 'multiclass' column\")"
      ]
    },
    {
      "cell_type": "code",
      "source": [
        "# Download necessary NLTK resources for text processing\n",
        "print(\"📥 Downloading NLTK resources...\")\n",
        "print(\"These are needed for text cleaning and preprocessing\")\n",
        "\n",
        "nltk.download('wordnet', quiet=True)      # For word lemmatization\n",
        "nltk.download('omw-1.4', quiet=True)      # Open Multilingual Wordnet\n",
        "nltk.download('punkt', quiet=True)        # For sentence tokenization\n",
        "nltk.download('stopwords', quiet=True)    # For removing common words\n",
        "nltk.download('averaged_perceptron_tagger', quiet=True)  # For POS tagging\n",
        "nltk.download('tagsets_json', quiet=True) # For tagset information\n",
        "\n",
        "# Set up plotting style for better visualizations\n",
        "plt.style.use(\"default\")\n",
        "sns.set_style(\"whitegrid\")\n",
        "\n",
        "print(\"✅ NLTK resources downloaded successfully!\")\n",
        "print(\"🎨 Plotting style configured for clear visualizations\")\n",
        "print(\"🚀 Setup completed - ready to process YOUR data!\")# Download necessary NLTK resources for text processing\n",
        "# These resources are needed for tokenization, stopwords, and lemmatization"
      ],
      "metadata": {
        "colab": {
          "base_uri": "https://localhost:8080/"
        },
        "id": "ki5V3bFR4FH6",
        "outputId": "435af207-30a9-4d33-c782-9e685ae8bd27"
      },
      "execution_count": null,
      "outputs": [
        {
          "output_type": "stream",
          "name": "stdout",
          "text": [
            "📥 Downloading NLTK resources...\n",
            "These are needed for text cleaning and preprocessing\n",
            "✅ NLTK resources downloaded successfully!\n",
            "🎨 Plotting style configured for clear visualizations\n",
            "🚀 Setup completed - ready to process YOUR data!\n"
          ]
        }
      ]
    },
    {
      "cell_type": "code",
      "source": [
        "from google.colab import files\n",
        "uploaded = files.upload()"
      ],
      "metadata": {
        "colab": {
          "base_uri": "https://localhost:8080/",
          "height": 74
        },
        "id": "C3ZcxvUe4M_R",
        "outputId": "ac3cacb2-cb22-4d84-9922-d27c54bda204"
      },
      "execution_count": null,
      "outputs": [
        {
          "output_type": "display_data",
          "data": {
            "text/plain": [
              "<IPython.core.display.HTML object>"
            ],
            "text/html": [
              "\n",
              "     <input type=\"file\" id=\"files-a5a27a23-06df-4497-b1d1-d8cc268fd98c\" name=\"files[]\" multiple disabled\n",
              "        style=\"border:none\" />\n",
              "     <output id=\"result-a5a27a23-06df-4497-b1d1-d8cc268fd98c\">\n",
              "      Upload widget is only available when the cell has been executed in the\n",
              "      current browser session. Please rerun this cell to enable.\n",
              "      </output>\n",
              "      <script>// Copyright 2017 Google LLC\n",
              "//\n",
              "// Licensed under the Apache License, Version 2.0 (the \"License\");\n",
              "// you may not use this file except in compliance with the License.\n",
              "// You may obtain a copy of the License at\n",
              "//\n",
              "//      http://www.apache.org/licenses/LICENSE-2.0\n",
              "//\n",
              "// Unless required by applicable law or agreed to in writing, software\n",
              "// distributed under the License is distributed on an \"AS IS\" BASIS,\n",
              "// WITHOUT WARRANTIES OR CONDITIONS OF ANY KIND, either express or implied.\n",
              "// See the License for the specific language governing permissions and\n",
              "// limitations under the License.\n",
              "\n",
              "/**\n",
              " * @fileoverview Helpers for google.colab Python module.\n",
              " */\n",
              "(function(scope) {\n",
              "function span(text, styleAttributes = {}) {\n",
              "  const element = document.createElement('span');\n",
              "  element.textContent = text;\n",
              "  for (const key of Object.keys(styleAttributes)) {\n",
              "    element.style[key] = styleAttributes[key];\n",
              "  }\n",
              "  return element;\n",
              "}\n",
              "\n",
              "// Max number of bytes which will be uploaded at a time.\n",
              "const MAX_PAYLOAD_SIZE = 100 * 1024;\n",
              "\n",
              "function _uploadFiles(inputId, outputId) {\n",
              "  const steps = uploadFilesStep(inputId, outputId);\n",
              "  const outputElement = document.getElementById(outputId);\n",
              "  // Cache steps on the outputElement to make it available for the next call\n",
              "  // to uploadFilesContinue from Python.\n",
              "  outputElement.steps = steps;\n",
              "\n",
              "  return _uploadFilesContinue(outputId);\n",
              "}\n",
              "\n",
              "// This is roughly an async generator (not supported in the browser yet),\n",
              "// where there are multiple asynchronous steps and the Python side is going\n",
              "// to poll for completion of each step.\n",
              "// This uses a Promise to block the python side on completion of each step,\n",
              "// then passes the result of the previous step as the input to the next step.\n",
              "function _uploadFilesContinue(outputId) {\n",
              "  const outputElement = document.getElementById(outputId);\n",
              "  const steps = outputElement.steps;\n",
              "\n",
              "  const next = steps.next(outputElement.lastPromiseValue);\n",
              "  return Promise.resolve(next.value.promise).then((value) => {\n",
              "    // Cache the last promise value to make it available to the next\n",
              "    // step of the generator.\n",
              "    outputElement.lastPromiseValue = value;\n",
              "    return next.value.response;\n",
              "  });\n",
              "}\n",
              "\n",
              "/**\n",
              " * Generator function which is called between each async step of the upload\n",
              " * process.\n",
              " * @param {string} inputId Element ID of the input file picker element.\n",
              " * @param {string} outputId Element ID of the output display.\n",
              " * @return {!Iterable<!Object>} Iterable of next steps.\n",
              " */\n",
              "function* uploadFilesStep(inputId, outputId) {\n",
              "  const inputElement = document.getElementById(inputId);\n",
              "  inputElement.disabled = false;\n",
              "\n",
              "  const outputElement = document.getElementById(outputId);\n",
              "  outputElement.innerHTML = '';\n",
              "\n",
              "  const pickedPromise = new Promise((resolve) => {\n",
              "    inputElement.addEventListener('change', (e) => {\n",
              "      resolve(e.target.files);\n",
              "    });\n",
              "  });\n",
              "\n",
              "  const cancel = document.createElement('button');\n",
              "  inputElement.parentElement.appendChild(cancel);\n",
              "  cancel.textContent = 'Cancel upload';\n",
              "  const cancelPromise = new Promise((resolve) => {\n",
              "    cancel.onclick = () => {\n",
              "      resolve(null);\n",
              "    };\n",
              "  });\n",
              "\n",
              "  // Wait for the user to pick the files.\n",
              "  const files = yield {\n",
              "    promise: Promise.race([pickedPromise, cancelPromise]),\n",
              "    response: {\n",
              "      action: 'starting',\n",
              "    }\n",
              "  };\n",
              "\n",
              "  cancel.remove();\n",
              "\n",
              "  // Disable the input element since further picks are not allowed.\n",
              "  inputElement.disabled = true;\n",
              "\n",
              "  if (!files) {\n",
              "    return {\n",
              "      response: {\n",
              "        action: 'complete',\n",
              "      }\n",
              "    };\n",
              "  }\n",
              "\n",
              "  for (const file of files) {\n",
              "    const li = document.createElement('li');\n",
              "    li.append(span(file.name, {fontWeight: 'bold'}));\n",
              "    li.append(span(\n",
              "        `(${file.type || 'n/a'}) - ${file.size} bytes, ` +\n",
              "        `last modified: ${\n",
              "            file.lastModifiedDate ? file.lastModifiedDate.toLocaleDateString() :\n",
              "                                    'n/a'} - `));\n",
              "    const percent = span('0% done');\n",
              "    li.appendChild(percent);\n",
              "\n",
              "    outputElement.appendChild(li);\n",
              "\n",
              "    const fileDataPromise = new Promise((resolve) => {\n",
              "      const reader = new FileReader();\n",
              "      reader.onload = (e) => {\n",
              "        resolve(e.target.result);\n",
              "      };\n",
              "      reader.readAsArrayBuffer(file);\n",
              "    });\n",
              "    // Wait for the data to be ready.\n",
              "    let fileData = yield {\n",
              "      promise: fileDataPromise,\n",
              "      response: {\n",
              "        action: 'continue',\n",
              "      }\n",
              "    };\n",
              "\n",
              "    // Use a chunked sending to avoid message size limits. See b/62115660.\n",
              "    let position = 0;\n",
              "    do {\n",
              "      const length = Math.min(fileData.byteLength - position, MAX_PAYLOAD_SIZE);\n",
              "      const chunk = new Uint8Array(fileData, position, length);\n",
              "      position += length;\n",
              "\n",
              "      const base64 = btoa(String.fromCharCode.apply(null, chunk));\n",
              "      yield {\n",
              "        response: {\n",
              "          action: 'append',\n",
              "          file: file.name,\n",
              "          data: base64,\n",
              "        },\n",
              "      };\n",
              "\n",
              "      let percentDone = fileData.byteLength === 0 ?\n",
              "          100 :\n",
              "          Math.round((position / fileData.byteLength) * 100);\n",
              "      percent.textContent = `${percentDone}% done`;\n",
              "\n",
              "    } while (position < fileData.byteLength);\n",
              "  }\n",
              "\n",
              "  // All done.\n",
              "  yield {\n",
              "    response: {\n",
              "      action: 'complete',\n",
              "    }\n",
              "  };\n",
              "}\n",
              "\n",
              "scope.google = scope.google || {};\n",
              "scope.google.colab = scope.google.colab || {};\n",
              "scope.google.colab._files = {\n",
              "  _uploadFiles,\n",
              "  _uploadFilesContinue,\n",
              "};\n",
              "})(self);\n",
              "</script> "
            ]
          },
          "metadata": {}
        },
        {
          "output_type": "stream",
          "name": "stdout",
          "text": [
            "Saving en_train.csv to en_train.csv\n"
          ]
        }
      ]
    },
    {
      "cell_type": "code",
      "source": [
        "df_train = pd.read_csv(\"en_train.csv\")\n",
        "print(df_train.head())\n"
      ],
      "metadata": {
        "colab": {
          "base_uri": "https://localhost:8080/"
        },
        "id": "cfshupft4QC0",
        "outputId": "9dc4f0fc-c610-4d9c-f07d-292e9e88659b"
      },
      "execution_count": null,
      "outputs": [
        {
          "output_type": "stream",
          "name": "stdout",
          "text": [
            "                                                text    binary  \\\n",
            "0  #USER# #USER# #USER# #USER# You expect a man t...  Not Hope   \n",
            "1  #USER# #USER# #USER# #USER# Tinubu is actually...  Not Hope   \n",
            "2  it'd be nice if missguided actually had stock ...      Hope   \n",
            "3  #USER# Anyway love u bubbly i know i can count...      Hope   \n",
            "4  “you have a lot of people rooting for you whet...  Not Hope   \n",
            "\n",
            "         multiclass  \n",
            "0          Not Hope  \n",
            "1          Not Hope  \n",
            "2           Sarcasm  \n",
            "3  Generalized Hope  \n",
            "4          Not Hope  \n"
          ]
        }
      ]
    },
    {
      "cell_type": "code",
      "source": [
        "def pre_process(tweet):\n",
        "    if not isinstance(tweet, str):\n",
        "        return \"\"\n",
        "\n",
        "    tweet = tweet.lower()\n",
        "\n",
        "    STOPWORDS = stopwords.words(\"english\") + [\n",
        "        'u', 'ü', 'ur', '4', '2', 'im', 'dont', 'doin', 'ure'  # Social media specific\n",
        "    ]\n",
        "\n",
        "\n",
        "    # Remove extra whitespace\n",
        "\n",
        "    nopunc = ''.join([char for char in tweet if char not in string.punctuation])  # Changed 'text' to 'tweet'\n",
        "    words = [word for word in nopunc.split() if word.lower() not in STOPWORDS]  # Changed 'STOPWORD' to 'STOPWORDS' and 'word' to 'words'\n",
        "\n",
        "      # Optional: Lemmatization (uncomment if you want to use it)\n",
        "    lemmatizer = WordNetLemmatizer()\n",
        "    words = [lemmatizer.lemmatize(word) for word in words]\n",
        "\n",
        "\n",
        "    return ' '.join(words)  # Changed 'word' to 'words'"
      ],
      "metadata": {
        "id": "gCj3JIMI4Zx1"
      },
      "execution_count": null,
      "outputs": []
    },
    {
      "cell_type": "code",
      "source": [
        "df_train['clean_tweets'] = df_train['text'].apply(pre_process)"
      ],
      "metadata": {
        "id": "IQrZbfU_4ZhS"
      },
      "execution_count": null,
      "outputs": []
    },
    {
      "cell_type": "code",
      "source": [
        "print(df_train.columns.tolist())"
      ],
      "metadata": {
        "colab": {
          "base_uri": "https://localhost:8080/"
        },
        "id": "MdyccETd4jdr",
        "outputId": "0a9d6b80-113a-4a27-dd51-847ff53eb27a"
      },
      "execution_count": null,
      "outputs": [
        {
          "output_type": "stream",
          "name": "stdout",
          "text": [
            "['text', 'binary', 'multiclass', 'clean_tweets']\n"
          ]
        }
      ]
    },
    {
      "cell_type": "code",
      "source": [
        "  # Create multi-class mapping\n",
        "multiclass_mapping = {\n",
        "        'Not Hope': 0,          # Negative sentiment = 0\n",
        "        'Generalized Hope': 1,   # Neutral sentiment = 1\n",
        "        'Sarcasm': 2            # Positive sentiment = 2\n",
        "    }"
      ],
      "metadata": {
        "id": "ozTpdpBJ41Ee"
      },
      "execution_count": null,
      "outputs": []
    },
    {
      "cell_type": "code",
      "source": [
        "\n",
        "# Filter the dataset to keep only the rows where the sentiment is 'negative' or 'positive'\n",
        "df_train = df_train[df_train['multiclass'].isin(multiclass_mapping.keys())].copy()\n",
        "\n",
        "# Map the sentiment labels to numeric values (negative -> 0, positive -> 1)\n",
        "df_train['new_multiclass'] = df_train['multiclass'].map(multiclass_mapping)\n",
        "\n",
        "# Check the result\n",
        "print(df_train[['text', 'new_multiclass']].head(10))"
      ],
      "metadata": {
        "colab": {
          "base_uri": "https://localhost:8080/"
        },
        "id": "8nQd5caO4nGH",
        "outputId": "25dfcaca-680c-4d88-a40e-b393b0772ba8"
      },
      "execution_count": null,
      "outputs": [
        {
          "output_type": "stream",
          "name": "stdout",
          "text": [
            "                                                 text  new_multiclass\n",
            "0   #USER# #USER# #USER# #USER# You expect a man t...               0\n",
            "1   #USER# #USER# #USER# #USER# Tinubu is actually...               0\n",
            "2   it'd be nice if missguided actually had stock ...               2\n",
            "3   #USER# Anyway love u bubbly i know i can count...               1\n",
            "4   “you have a lot of people rooting for you whet...               0\n",
            "5   Hoping to get on the brown a lot more after I ...               0\n",
            "6   #USER# no exactly :/ and like i’ve seen (non g...               0\n",
            "7   #USER# You have lost because your so called cu...               0\n",
            "9   #USER# #USER# My dear Rwandans still remember ...               0\n",
            "10  Well the club season is over.  \\nWe ended up t...               1\n"
          ]
        }
      ]
    },
    {
      "cell_type": "code",
      "source": [
        "train_vocab = set(\" \".join(df_train[\"clean_tweets\"]).split())\n",
        "print(f\"Train unique words : {len(train_vocab):,}\")"
      ],
      "metadata": {
        "colab": {
          "base_uri": "https://localhost:8080/"
        },
        "id": "qcOTV2LT6PSI",
        "outputId": "aea08c09-c968-4c97-a492-b86d38d9c2e4"
      },
      "execution_count": null,
      "outputs": [
        {
          "output_type": "stream",
          "name": "stdout",
          "text": [
            "Train unique words : 15,344\n"
          ]
        }
      ]
    },
    {
      "cell_type": "code",
      "source": [
        "print(\"sample train words ->\",sorted(list(train_vocab))[:10])"
      ],
      "metadata": {
        "colab": {
          "base_uri": "https://localhost:8080/"
        },
        "id": "kKG7qc-v6R8b",
        "outputId": "4f894d15-8390-43c6-99e5-2eea1ba36803"
      },
      "execution_count": null,
      "outputs": [
        {
          "output_type": "stream",
          "name": "stdout",
          "text": [
            "sample train words -> ['0', '00', '0000', '000268958', '005', '007', '00700', '01', '010', '015']\n"
          ]
        }
      ]
    },
    {
      "cell_type": "code",
      "source": [
        "x = df_train[\"clean_tweets\"]\n",
        "y = df_train[\"multiclass\"]\n",
        "print(x.shape,y.shape)"
      ],
      "metadata": {
        "colab": {
          "base_uri": "https://localhost:8080/"
        },
        "id": "1KxSzhY-6RrN",
        "outputId": "9574b6e3-d77e-4718-8da4-196b569c662f"
      },
      "execution_count": null,
      "outputs": [
        {
          "output_type": "stream",
          "name": "stdout",
          "text": [
            "(4221,) (4221,)\n"
          ]
        }
      ]
    },
    {
      "cell_type": "code",
      "source": [
        "# here we training data start\n",
        "from sklearn.model_selection import train_test_split\n",
        "x_train,x_test,y_train,y_test = train_test_split(x,y, test_size =0.2 ,random_state=42, stratify=  y)"
      ],
      "metadata": {
        "id": "WiewNuzt6WXr"
      },
      "execution_count": null,
      "outputs": []
    },
    {
      "cell_type": "code",
      "source": [
        "vecterizer = CountVectorizer(binary = True)\n",
        "x_train_data = vecterizer.fit_transform(x_train)\n",
        "x_test_data = vecterizer.transform(x_test)"
      ],
      "metadata": {
        "id": "kFjlDjZo6Zje"
      },
      "execution_count": null,
      "outputs": []
    },
    {
      "cell_type": "code",
      "source": [
        "from sklearn.naive_bayes import MultinomialNB"
      ],
      "metadata": {
        "id": "PcEmYM_g6cAT"
      },
      "execution_count": null,
      "outputs": []
    },
    {
      "cell_type": "code",
      "source": [
        "nb = MultinomialNB\n",
        "start_time = time.time()\n",
        "nb = MultinomialNB()\n",
        "# hare we are doing training\n",
        "# we give tata with lable\n",
        "nb.fit(x_train_data,y_train)\n",
        "end_time = time.time()\n",
        "print(\"\\nTraining Time: {:.3f} seconds\".format(end_time - start_time))"
      ],
      "metadata": {
        "colab": {
          "base_uri": "https://localhost:8080/"
        },
        "id": "v7uafGWp6dZZ",
        "outputId": "8a9f8def-94e6-4451-804d-693086695fed"
      },
      "execution_count": null,
      "outputs": [
        {
          "output_type": "stream",
          "name": "stdout",
          "text": [
            "\n",
            "Training Time: 0.026 seconds\n"
          ]
        }
      ]
    },
    {
      "cell_type": "code",
      "source": [
        "# here we just give data and predict what will the lable\n",
        "x_test_predict_data = nb.predict(x_test_data)\n",
        "\n",
        "# -> below line this code will print on screen\n",
        "\n",
        "# x_test_predict_data\n"
      ],
      "metadata": {
        "id": "OtxAu9s16fA-"
      },
      "execution_count": null,
      "outputs": []
    },
    {
      "cell_type": "code",
      "source": [
        "# now we predict the data and his lable\n",
        "# now we check eccuracey which predict lable\n",
        "from sklearn import metrics\n",
        "\n",
        "print(\"\\n=======Accuracy Score===========\")\n",
        "acc = metrics.accuracy_score(y_test, x_test_predict_data)\n",
        "print(f\"Accuracy Score : {acc*100:.2f}%\")"
      ],
      "metadata": {
        "colab": {
          "base_uri": "https://localhost:8080/"
        },
        "id": "J33lzmeV6jRW",
        "outputId": "22ec2bc2-01c9-4048-e2ff-f06676897dc1"
      },
      "execution_count": null,
      "outputs": [
        {
          "output_type": "stream",
          "name": "stdout",
          "text": [
            "\n",
            "=======Accuracy Score===========\n",
            "Accuracy Score : 72.54%\n"
          ]
        }
      ]
    },
    {
      "cell_type": "code",
      "source": [
        "\n",
        "# Print the confusion matrix\n",
        "\n",
        "print(\"\\n=======Confusion Matrix===========\")\n",
        "print(metrics.confusion_matrix(y_test , x_test_predict_data))\n"
      ],
      "metadata": {
        "colab": {
          "base_uri": "https://localhost:8080/"
        },
        "id": "-4PhUNhb6ouk",
        "outputId": "ced08b0c-e5a1-41ec-8065-0f4f75b0cbeb"
      },
      "execution_count": null,
      "outputs": [
        {
          "output_type": "stream",
          "name": "stdout",
          "text": [
            "\n",
            "=======Confusion Matrix===========\n",
            "[[158  99   0]\n",
            " [ 43 405   1]\n",
            " [ 12  77  50]]\n"
          ]
        }
      ]
    },
    {
      "cell_type": "code",
      "source": [
        "from sklearn.metrics import confusion_matrix\n",
        "# Scikit-learn ke andar metrics module ko import kar rahe ho\n",
        "# —> jisme sab evaluation tools hote hain (accuracy, confusion matrix, report etc.)\n",
        "import seaborn as sns\n",
        "import matplotlib.pyplot as plt\n",
        "\n",
        "cm = confusion_matrix(y_test, x_test_predict_data)\n",
        "plt.figure(figsize=(6,5))\n",
        "sns.heatmap(cm, annot=True, fmt='d', cmap='Blues', xticklabels=['Not Hope', 'Gen Hope', 'Sarcasm'], yticklabels=['Not Hope', 'Gen Hope', 'Sarcasm'])\n",
        "\n",
        "plt.xlabel('Predicted')\n",
        "plt.ylabel('Actual')\n",
        "plt.title('Confusion Matrix')\n",
        "plt.show()\n"
      ],
      "metadata": {
        "colab": {
          "base_uri": "https://localhost:8080/",
          "height": 487
        },
        "id": "SDu51KAj6tyR",
        "outputId": "aaae384b-f9f5-4f9e-bb42-53b2895b7e28"
      },
      "execution_count": null,
      "outputs": [
        {
          "output_type": "display_data",
          "data": {
            "text/plain": [
              "<Figure size 600x500 with 2 Axes>"
            ],
            "image/png": "[encoded data removed]"
          },
          "metadata": {}
        }
      ]
    },
    {
      "cell_type": "code",
      "source": [
        "from sklearn.feature_extraction.text import TfidfVectorizer\n",
        "vectorizer = TfidfVectorizer(\n",
        "    max_features = 20000,#yeh word consider kia jaye gy\n",
        "    ngram_range = (1,2),#words combination\n",
        "    min_df = 2,#2 dataset frequcy 2 sy kam hai ,ignore\n",
        "    max_df = 0.95#95% sy zada hai tu ignore common words\n",
        "\n",
        ")\n"
      ],
      "metadata": {
        "id": "pZ4r4teC7fhV"
      },
      "execution_count": null,
      "outputs": []
    },
    {
      "cell_type": "code",
      "source": [
        "x_train_tfidf = vectorizer.fit_transform(x_train)\n",
        "x_test_tfidf= vectorizer.transform(x_train) # -> why we are giving or passing  x_train data which (80%) why we are not giving x_train_data\n",
        "# we are using x_train data bcs aghr hum already train vocab dataki tfidf kryn gy tu ya galt ho ga is lia hum nay actual data jo 80% use kr rhy hn us ko use kr rhy hai\n",
        "\n",
        "print(\"\\nTF-IDF Vectorizer vocabulary size:\", len(vectorizer.get_feature_names_out()))\n",
        "print(\"Sample features:\", vectorizer.get_feature_names_out()[:5])"
      ],
      "metadata": {
        "colab": {
          "base_uri": "https://localhost:8080/"
        },
        "id": "WT1N1Ytg7vBu",
        "outputId": "71686112-175c-4609-f60c-7b38bf13ed95"
      },
      "execution_count": null,
      "outputs": [
        {
          "output_type": "stream",
          "name": "stdout",
          "text": [
            "\n",
            "TF-IDF Vectorizer vocabulary size: 8053\n",
            "Sample features: ['007' '010' '0625' '06272022' '06272022 total']\n"
          ]
        }
      ]
    }
  ]
}