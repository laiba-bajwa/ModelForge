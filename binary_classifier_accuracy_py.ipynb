{
  "nbformat": 4,
  "nbformat_minor": 0,
  "metadata": {
    "colab": {
      "provenance": [],
      "authorship_tag": "ABX9TyMsAiZYtWn6R5/GAftZftf/",
      "include_colab_link": true
    },
    "kernelspec": {
      "name": "python3",
      "display_name": "Python 3"
    },
    "language_info": {
      "name": "python"
    }
  },
  "cells": [
    {
      "cell_type": "markdown",
      "metadata": {
        "id": "view-in-github",
        "colab_type": "text"
      },
      "source": [
        "<a href=\"https://colab.research.google.com/github/laiba-bajwa/ModelForge/blob/main/binary_classifier_accuracy_py.ipynb\" target=\"_parent\"><img src=\"https://colab.research.google.com/assets/colab-badge.svg\" alt=\"Open In Colab\"/></a>"
      ]
    },
    {
      "cell_type": "code",
      "execution_count": null,
      "metadata": {
        "colab": {
          "base_uri": "https://localhost:8080/"
        },
        "id": "NnYMnZJnVybV",
        "outputId": "6d4d6102-d8ca-4660-fb4e-f2be13c940da"
      },
      "outputs": [
        {
          "output_type": "stream",
          "name": "stderr",
          "text": [
            "[nltk_data] Downloading package stopwords to /root/nltk_data...\n",
            "[nltk_data]   Unzipping corpora/stopwords.zip.\n",
            "[nltk_data] Downloading package punkt to /root/nltk_data...\n",
            "[nltk_data]   Unzipping tokenizers/punkt.zip.\n",
            "[nltk_data] Downloading package punkt_tab to /root/nltk_data...\n",
            "[nltk_data]   Unzipping tokenizers/punkt_tab.zip.\n",
            "[nltk_data] Downloading package wordnet to /root/nltk_data...\n",
            "[nltk_data] Error loading averaged_preceptron_tagger_eng: Package\n",
            "[nltk_data]     'averaged_preceptron_tagger_eng' not found in index\n",
            "[nltk_data] Downloading package words to /root/nltk_data...\n",
            "[nltk_data]   Unzipping corpora/words.zip.\n"
          ]
        },
        {
          "output_type": "execute_result",
          "data": {
            "text/plain": [
              "True"
            ]
          },
          "metadata": {},
          "execution_count": 4
        }
      ],
      "source": [
        "import pandas as pd\n",
        "import string\n",
        "import nltk\n",
        "from nltk.corpus import stopwords\n",
        "from nltk.tokenize import word_tokenize\n",
        "from nltk.stem import PorterStemmer\n",
        "from nltk.stem import WordNetLemmatizer\n",
        "from collections import Counter\n",
        "from nltk import pos_tag\n",
        "\n",
        "nltk.download('stopwords')\n",
        "nltk.download('punkt')\n",
        "nltk.download('punkt_tab')\n",
        "nltk.download('wordnet')\n",
        "nltk.download('averaged_preceptron_tagger_eng')\n",
        "nltk.download('words')\n",
        "\n"
      ]
    },
    {
      "cell_type": "code",
      "source": [
        "#file upload ho gi h\n",
        "from google.colab import files\n",
        "uploaded=files.upload()"
      ],
      "metadata": {
        "colab": {
          "base_uri": "https://localhost:8080/",
          "height": 74
        },
        "id": "Wr8LFwtIWPy5",
        "outputId": "7d6cea33-9c76-45c5-f67d-af23374c3cbf"
      },
      "execution_count": null,
      "outputs": [
        {
          "output_type": "display_data",
          "data": {
            "text/plain": [
              "<IPython.core.display.HTML object>"
            ],
            "text/html": [
              "\n",
              "     <input type=\"file\" id=\"files-3a78ed18-159e-4e11-91ba-47bf0f5f564e\" name=\"files[]\" multiple disabled\n",
              "        style=\"border:none\" />\n",
              "     <output id=\"result-3a78ed18-159e-4e11-91ba-47bf0f5f564e\">\n",
              "      Upload widget is only available when the cell has been executed in the\n",
              "      current browser session. Please rerun this cell to enable.\n",
              "      </output>\n",
              "      <script>// Copyright 2017 Google LLC\n",
              "//\n",
              "// Licensed under the Apache License, Version 2.0 (the \"License\");\n",
              "// you may not use this file except in compliance with the License.\n",
              "// You may obtain a copy of the License at\n",
              "//\n",
              "//      http://www.apache.org/licenses/LICENSE-2.0\n",
              "//\n",
              "// Unless required by applicable law or agreed to in writing, software\n",
              "// distributed under the License is distributed on an \"AS IS\" BASIS,\n",
              "// WITHOUT WARRANTIES OR CONDITIONS OF ANY KIND, either express or implied.\n",
              "// See the License for the specific language governing permissions and\n",
              "// limitations under the License.\n",
              "\n",
              "/**\n",
              " * @fileoverview Helpers for google.colab Python module.\n",
              " */\n",
              "(function(scope) {\n",
              "function span(text, styleAttributes = {}) {\n",
              "  const element = document.createElement('span');\n",
              "  element.textContent = text;\n",
              "  for (const key of Object.keys(styleAttributes)) {\n",
              "    element.style[key] = styleAttributes[key];\n",
              "  }\n",
              "  return element;\n",
              "}\n",
              "\n",
              "// Max number of bytes which will be uploaded at a time.\n",
              "const MAX_PAYLOAD_SIZE = 100 * 1024;\n",
              "\n",
              "function _uploadFiles(inputId, outputId) {\n",
              "  const steps = uploadFilesStep(inputId, outputId);\n",
              "  const outputElement = document.getElementById(outputId);\n",
              "  // Cache steps on the outputElement to make it available for the next call\n",
              "  // to uploadFilesContinue from Python.\n",
              "  outputElement.steps = steps;\n",
              "\n",
              "  return _uploadFilesContinue(outputId);\n",
              "}\n",
              "\n",
              "// This is roughly an async generator (not supported in the browser yet),\n",
              "// where there are multiple asynchronous steps and the Python side is going\n",
              "// to poll for completion of each step.\n",
              "// This uses a Promise to block the python side on completion of each step,\n",
              "// then passes the result of the previous step as the input to the next step.\n",
              "function _uploadFilesContinue(outputId) {\n",
              "  const outputElement = document.getElementById(outputId);\n",
              "  const steps = outputElement.steps;\n",
              "\n",
              "  const next = steps.next(outputElement.lastPromiseValue);\n",
              "  return Promise.resolve(next.value.promise).then((value) => {\n",
              "    // Cache the last promise value to make it available to the next\n",
              "    // step of the generator.\n",
              "    outputElement.lastPromiseValue = value;\n",
              "    return next.value.response;\n",
              "  });\n",
              "}\n",
              "\n",
              "/**\n",
              " * Generator function which is called between each async step of the upload\n",
              " * process.\n",
              " * @param {string} inputId Element ID of the input file picker element.\n",
              " * @param {string} outputId Element ID of the output display.\n",
              " * @return {!Iterable<!Object>} Iterable of next steps.\n",
              " */\n",
              "function* uploadFilesStep(inputId, outputId) {\n",
              "  const inputElement = document.getElementById(inputId);\n",
              "  inputElement.disabled = false;\n",
              "\n",
              "  const outputElement = document.getElementById(outputId);\n",
              "  outputElement.innerHTML = '';\n",
              "\n",
              "  const pickedPromise = new Promise((resolve) => {\n",
              "    inputElement.addEventListener('change', (e) => {\n",
              "      resolve(e.target.files);\n",
              "    });\n",
              "  });\n",
              "\n",
              "  const cancel = document.createElement('button');\n",
              "  inputElement.parentElement.appendChild(cancel);\n",
              "  cancel.textContent = 'Cancel upload';\n",
              "  const cancelPromise = new Promise((resolve) => {\n",
              "    cancel.onclick = () => {\n",
              "      resolve(null);\n",
              "    };\n",
              "  });\n",
              "\n",
              "  // Wait for the user to pick the files.\n",
              "  const files = yield {\n",
              "    promise: Promise.race([pickedPromise, cancelPromise]),\n",
              "    response: {\n",
              "      action: 'starting',\n",
              "    }\n",
              "  };\n",
              "\n",
              "  cancel.remove();\n",
              "\n",
              "  // Disable the input element since further picks are not allowed.\n",
              "  inputElement.disabled = true;\n",
              "\n",
              "  if (!files) {\n",
              "    return {\n",
              "      response: {\n",
              "        action: 'complete',\n",
              "      }\n",
              "    };\n",
              "  }\n",
              "\n",
              "  for (const file of files) {\n",
              "    const li = document.createElement('li');\n",
              "    li.append(span(file.name, {fontWeight: 'bold'}));\n",
              "    li.append(span(\n",
              "        `(${file.type || 'n/a'}) - ${file.size} bytes, ` +\n",
              "        `last modified: ${\n",
              "            file.lastModifiedDate ? file.lastModifiedDate.toLocaleDateString() :\n",
              "                                    'n/a'} - `));\n",
              "    const percent = span('0% done');\n",
              "    li.appendChild(percent);\n",
              "\n",
              "    outputElement.appendChild(li);\n",
              "\n",
              "    const fileDataPromise = new Promise((resolve) => {\n",
              "      const reader = new FileReader();\n",
              "      reader.onload = (e) => {\n",
              "        resolve(e.target.result);\n",
              "      };\n",
              "      reader.readAsArrayBuffer(file);\n",
              "    });\n",
              "    // Wait for the data to be ready.\n",
              "    let fileData = yield {\n",
              "      promise: fileDataPromise,\n",
              "      response: {\n",
              "        action: 'continue',\n",
              "      }\n",
              "    };\n",
              "\n",
              "    // Use a chunked sending to avoid message size limits. See b/62115660.\n",
              "    let position = 0;\n",
              "    do {\n",
              "      const length = Math.min(fileData.byteLength - position, MAX_PAYLOAD_SIZE);\n",
              "      const chunk = new Uint8Array(fileData, position, length);\n",
              "      position += length;\n",
              "\n",
              "      const base64 = btoa(String.fromCharCode.apply(null, chunk));\n",
              "      yield {\n",
              "        response: {\n",
              "          action: 'append',\n",
              "          file: file.name,\n",
              "          data: base64,\n",
              "        },\n",
              "      };\n",
              "\n",
              "      let percentDone = fileData.byteLength === 0 ?\n",
              "          100 :\n",
              "          Math.round((position / fileData.byteLength) * 100);\n",
              "      percent.textContent = `${percentDone}% done`;\n",
              "\n",
              "    } while (position < fileData.byteLength);\n",
              "  }\n",
              "\n",
              "  // All done.\n",
              "  yield {\n",
              "    response: {\n",
              "      action: 'complete',\n",
              "    }\n",
              "  };\n",
              "}\n",
              "\n",
              "scope.google = scope.google || {};\n",
              "scope.google.colab = scope.google.colab || {};\n",
              "scope.google.colab._files = {\n",
              "  _uploadFiles,\n",
              "  _uploadFilesContinue,\n",
              "};\n",
              "})(self);\n",
              "</script> "
            ]
          },
          "metadata": {}
        },
        {
          "output_type": "stream",
          "name": "stdout",
          "text": [
            "Saving en_train.csv to en_train.csv\n"
          ]
        }
      ]
    },
    {
      "cell_type": "code",
      "source": [
        "#file read ho gi hai\n",
        "import pandas as pd\n",
        "df_test=pd.read_csv('en_train.csv')\n",
        "print(df_test.head(7))\n",
        "# Print the first few values of the 'binary' column before cleaning\n",
        "#print(df_test[['text', 'binary']].head(20))"
      ],
      "metadata": {
        "colab": {
          "base_uri": "https://localhost:8080/"
        },
        "id": "1G7Rfh8yWxl_",
        "outputId": "69e6de86-d474-4c92-88bb-8c20f4f30933"
      },
      "execution_count": null,
      "outputs": [
        {
          "output_type": "stream",
          "name": "stdout",
          "text": [
            "                                                text    binary  \\\n",
            "0  #USER# #USER# #USER# #USER# You expect a man t...  Not Hope   \n",
            "1  #USER# #USER# #USER# #USER# Tinubu is actually...  Not Hope   \n",
            "2  it'd be nice if missguided actually had stock ...      Hope   \n",
            "3  #USER# Anyway love u bubbly i know i can count...      Hope   \n",
            "4  “you have a lot of people rooting for you whet...  Not Hope   \n",
            "5  Hoping to get on the brown a lot more after I ...  Not Hope   \n",
            "6  #USER# no exactly :/ and like i’ve seen (non g...  Not Hope   \n",
            "\n",
            "         multiclass  \n",
            "0          Not Hope  \n",
            "1          Not Hope  \n",
            "2           Sarcasm  \n",
            "3  Generalized Hope  \n",
            "4          Not Hope  \n",
            "5          Not Hope  \n",
            "6          Not Hope  \n"
          ]
        }
      ]
    },
    {
      "cell_type": "code",
      "source": [
        "print(df_test.columns)\n",
        "print(df_test.shape)\n",
        "stemmer=PorterStemmer() #object\n",
        "lemmatizer=WordNetLemmatizer()#object\n",
        "\n",
        "\n",
        "\n",
        "def preprocess(tweet):\n",
        "  if not isinstance(tweet,str):\n",
        "    return\" \"\n",
        "\n",
        "  tweet=tweet.lower()\n",
        "  nonpunc=''.join([c for c in tweet if c not in string.punctuation])\n",
        "  #print(\"Punctuation:\", nonpunc)\n",
        "  Stop_wprds=stopwords.words('english')\n",
        "   #tokenize into words\n",
        "  tokenize=word_tokenize(nonpunc)\n",
        "\n",
        "\n",
        "  cleaned=[word for word in tokenize if word not in Stop_wprds]\n",
        "  #print(\"Stopwords:\", cleaned)\n",
        "\n",
        "  words=[stemmer.stem(word)for word in cleaned]\n",
        "\n",
        "  lem=[lemmatizer.lemmatize(text)for text in words]\n",
        "\n",
        "  ct=' '.join(lem)\n",
        "  return ct\n",
        "\n",
        "df_test['clean']=df_test['text'].apply(preprocess)\n",
        "print(df_test['clean'].head(9))"
      ],
      "metadata": {
        "colab": {
          "base_uri": "https://localhost:8080/"
        },
        "id": "RvQmNoaxXlGs",
        "outputId": "b2424c53-18d8-45da-c2a5-21d8bfaa64b9"
      },
      "execution_count": null,
      "outputs": [
        {
          "output_type": "stream",
          "name": "stdout",
          "text": [
            "Index(['text', 'binary', 'multiclass'], dtype='object')\n",
            "(5233, 3)\n",
            "0    user user user user expect man liter refer god...\n",
            "1    user user user user tinubu actual bonu lol hop...\n",
            "2      itd nice missguid actual stock once������������\n",
            "3     user anyway love u bubbl know count fairi tail😌🤚\n",
            "4    “ lot peopl root whether believ ’ want let ” l...\n",
            "5            hope get brown lot move part citi lot bar\n",
            "6    user exactli like ’ seen non gvfx peopl say to...\n",
            "7    user lost call cultur backward never progress ...\n",
            "8    user user user user user user user user hi😊 ’ ...\n",
            "Name: clean, dtype: object\n"
          ]
        }
      ]
    },
    {
      "cell_type": "code",
      "source": [
        "#df_test['binary']=df_test['binary'].map({'Hope':1,'Not Hope':0})\n",
        "#print(df_test[['text', 'binary']].head(10))\n",
        "\n",
        "\n",
        "# Define the binary mapping (e.g., 'negative' -> 0, 'positive' -> 1)\n",
        "binary_mapping = {'Hope': 1, 'Not Hope': 0}\n",
        "\n",
        "# Filter the dataset to keep only the rows where the sentiment is 'negative' or 'positive'\n",
        "df_test = df_test[df_test['binary'].isin(binary_mapping.keys())].copy()\n",
        "\n",
        "# Map the sentiment labels to numeric values (negative -> 0, positive -> 1)\n",
        "df_test['binary'] = df_test['binary'].map(binary_mapping)\n",
        "\n",
        "# Check the result\n",
        "print(df_test[['text', 'binary']].head(10))"
      ],
      "metadata": {
        "colab": {
          "base_uri": "https://localhost:8080/"
        },
        "id": "WheFgoeogIyC",
        "outputId": "da104731-ae8d-4227-b8c2-5f9591c7c1e4"
      },
      "execution_count": null,
      "outputs": [
        {
          "output_type": "stream",
          "name": "stdout",
          "text": [
            "                                                text  binary\n",
            "0  #USER# #USER# #USER# #USER# You expect a man t...       0\n",
            "1  #USER# #USER# #USER# #USER# Tinubu is actually...       0\n",
            "2  it'd be nice if missguided actually had stock ...       1\n",
            "3  #USER# Anyway love u bubbly i know i can count...       1\n",
            "4  “you have a lot of people rooting for you whet...       0\n",
            "5  Hoping to get on the brown a lot more after I ...       0\n",
            "6  #USER# no exactly :/ and like i’ve seen (non g...       0\n",
            "7  #USER# You have lost because your so called cu...       0\n",
            "8  #USER# #USER# #USER# #USER# #USER# #USER# #USE...       1\n",
            "9  #USER# #USER# My dear Rwandans still remember ...       0\n"
          ]
        }
      ]
    },
    {
      "cell_type": "code",
      "source": [
        "print(df_test['binary'].dtype)"
      ],
      "metadata": {
        "colab": {
          "base_uri": "https://localhost:8080/"
        },
        "id": "zhETsxhQkCOO",
        "outputId": "5ce2fd94-7416-4aa9-d52e-87847b9ce1e4"
      },
      "execution_count": null,
      "outputs": [
        {
          "output_type": "stream",
          "name": "stdout",
          "text": [
            "int64\n"
          ]
        }
      ]
    },
    {
      "cell_type": "code",
      "source": [
        "train_vocab=set(''.join(df_test['clean']).split())\n",
        "test_vocab=set(''.join(df_test['clean']).split())\n",
        "\n",
        "print(\"=== Vocabulary statistics ===\")\n",
        "print(f\"Train unique words : {len(train_vocab):,}\")\n",
        "print(f\"Test  unique words : {len(test_vocab):,}\")"
      ],
      "metadata": {
        "colab": {
          "base_uri": "https://localhost:8080/"
        },
        "id": "ggQ5drCW40LT",
        "outputId": "5a2f39c7-6360-4041-db29-84b115720cb9"
      },
      "execution_count": null,
      "outputs": [
        {
          "output_type": "stream",
          "name": "stdout",
          "text": [
            "=== Vocabulary statistics ===\n",
            "Train unique words : 16,950\n",
            "Test  unique words : 16,950\n"
          ]
        }
      ]
    },
    {
      "cell_type": "code",
      "source": [
        "# Sorting the words alphabetically\n",
        "\"\"\"\n",
        "sorted_words = sorted(unique_words)\n",
        "print(\"Sorted Words: \", sorted_words)\n",
        "print(\"Number of Sorted Words: \", len(sorted_words))\n",
        "\"\"\"\n",
        "\n",
        "print(\"Sample train words :\", sorted(list(train_vocab))[:10], \"...\\n\")\n",
        "print(\"Sample test  words :\", sorted(list(test_vocab))[:10], \"...\\n\")"
      ],
      "metadata": {
        "colab": {
          "base_uri": "https://localhost:8080/"
        },
        "id": "jbsaTXUf6KPM",
        "outputId": "6950cf2b-a1e7-4f7d-f496-8199b645f044"
      },
      "execution_count": null,
      "outputs": [
        {
          "output_type": "stream",
          "name": "stdout",
          "text": [
            "Sample train words : ['0', '00', '0000', '000268958', '005', '007', '00700', '01', '010', '015'] ...\n",
            "\n",
            "Sample test  words : ['0', '00', '0000', '000268958', '005', '007', '00700', '01', '010', '015'] ...\n",
            "\n"
          ]
        }
      ]
    },
    {
      "cell_type": "code",
      "source": [
        "from sklearn.model_selection import train_test_split\n",
        "\n",
        "# Split the dataset into 80% training and 20% testing\n",
        "X = df_test['clean']  # Feature column\n",
        "y = df_test['binary']  # Label column\n",
        "\n",
        "X_train, X_test, y_train, y_test = train_test_split(X, y, test_size=0.2, random_state=42,stratify=y)\n",
        "\n",
        "# Print the shapes of the split data\n",
        "print(f\"Training Data: {X_train.shape}, Testing Data: {X_test.shape}\")\n"
      ],
      "metadata": {
        "colab": {
          "base_uri": "https://localhost:8080/"
        },
        "id": "pTjCcHwo6J_b",
        "outputId": "3241e2f2-60a9-464d-da8f-67fa1c0386e7"
      },
      "execution_count": null,
      "outputs": [
        {
          "output_type": "stream",
          "name": "stdout",
          "text": [
            "Training Data: (4186,), Testing Data: (1047,)\n"
          ]
        }
      ]
    },
    {
      "cell_type": "code",
      "source": [
        "# Machine Learning Model Training and Testing\n",
        "\n",
        "#CountVectorizer: This method represents text based on the frequency of words.\n",
        "#TF-IDF (Term Frequency-Inverse Document Frequency): This method weighs words based on their importance in a document relative to the entire corpus.\n",
        "\n",
        "from sklearn.feature_extraction.text import CountVectorizer\n",
        "\n",
        "# Initialize CountVectorizer\n",
        "vectorizer = CountVectorizer()\n",
        "\n",
        "# Fit the model on training data and transform both train and test data\n",
        "X_train_cv = vectorizer.fit_transform(X_train)\n",
        "X_test_cv = vectorizer.transform(X_test)\n",
        "\n",
        "print(f\"Training Data Shape after Vectorization: {X_train_cv.shape}\")\n",
        "print(f\"Testing Data Shape after Vectorization: {X_test_cv.shape}\")\n",
        "\n",
        "print(\"\\n vextorizer size of vocab : \", len(vectorizer.get_feature_names_out()))\n",
        "print(\"Sample features:\", vectorizer.get_feature_names_out()[:20])\n"
      ],
      "metadata": {
        "colab": {
          "base_uri": "https://localhost:8080/"
        },
        "id": "dGqLlSnx7coR",
        "outputId": "255a8f1a-dcec-4ceb-879c-71ae2bb0e118"
      },
      "execution_count": null,
      "outputs": [
        {
          "output_type": "stream",
          "name": "stdout",
          "text": [
            "Training Data Shape after Vectorization: (4186, 11632)\n",
            "Testing Data Shape after Vectorization: (1047, 11632)\n",
            "/n vextorizer size of vocab :  11632\n",
            "Sample features: ['00' '0000' '000268958' '005' '007' '00700' '01' '010' '015' '02' '020'\n",
            " '025' '03' '04' '05' '06' '0620' '0625' '06272022' '07']\n"
          ]
        }
      ]
    },
    {
      "cell_type": "code",
      "source": [
        "from sklearn.naive_bayes import MultinomialNB\n",
        "import time\n",
        "\n",
        "start_time = time.time()\n",
        "# Initialize the Multinomial Naive Bayes classifier\n",
        "nb_model = MultinomialNB()\n",
        "\n",
        "# Train the model on the training data\n",
        "nb_model.fit(X_train_cv, y_train)\n",
        "\n",
        "end_time = time.time()\n",
        "\n",
        "print(\"\\nTraining Time: {:.3f} seconds\".format(end_time - start_time))\n",
        "# Predict on the test data\n",
        "y_pred = nb_model.predict(X_test_cv)\n",
        "\n",
        "# Print predictions\n",
        "print(f\"Predictions on Test Data: {y_pred}\")\n"
      ],
      "metadata": {
        "colab": {
          "base_uri": "https://localhost:8080/"
        },
        "id": "r4RmKXUD7cX7",
        "outputId": "7d27cdd2-a2fb-4fd5-b250-8e46b9349b1a"
      },
      "execution_count": null,
      "outputs": [
        {
          "output_type": "stream",
          "name": "stdout",
          "text": [
            "\n",
            "Training Time: 0.004 seconds\n",
            "Predictions on Test Data: [1 0 1 ... 1 1 0]\n"
          ]
        }
      ]
    },
    {
      "cell_type": "code",
      "source": [
        "from sklearn.metrics import accuracy_score, confusion_matrix, classification_report\n",
        "\n",
        "# Calculate accuracy\n",
        "accuracy = accuracy_score(y_test, y_pred)\n",
        "print(f\"Accuracy: {accuracy * 100:.2f}%\")\n",
        "\n",
        "# Print Confusion Matrix\n",
        "print(\"Confusion Matrix: \")\n",
        "print(confusion_matrix(y_test, y_pred))\n",
        "\n",
        "# Print Classification Report\n",
        "print(\"Classification Report: \")\n",
        "print(classification_report(y_test, y_pred))\n"
      ],
      "metadata": {
        "colab": {
          "base_uri": "https://localhost:8080/"
        },
        "id": "-JutVqzR7cFt",
        "outputId": "50dcb9d3-eb91-4c32-98ab-132c71b157ec"
      },
      "execution_count": null,
      "outputs": [
        {
          "output_type": "stream",
          "name": "stdout",
          "text": [
            "Accuracy: 75.84%\n",
            "Confusion Matrix: \n",
            "[[442 120]\n",
            " [133 352]]\n",
            "Classification Report: \n",
            "              precision    recall  f1-score   support\n",
            "\n",
            "           0       0.77      0.79      0.78       562\n",
            "           1       0.75      0.73      0.74       485\n",
            "\n",
            "    accuracy                           0.76      1047\n",
            "   macro avg       0.76      0.76      0.76      1047\n",
            "weighted avg       0.76      0.76      0.76      1047\n",
            "\n"
          ]
        }
      ]
    },
    {
      "cell_type": "code",
      "source": [
        "from sklearn.feature_extraction.text import TfidfVectorizer\n",
        "\n",
        "# Initialize TfidfVectorizer\n",
        "tfidf_vectorizer = TfidfVectorizer()\n",
        "\n",
        "# Fit the model on training data and transform both train and test data\n",
        "X_train_tfidf = tfidf_vectorizer.fit_transform(X_train)\n",
        "X_test_tfidf = tfidf_vectorizer.transform(X_test)\n",
        "\n",
        "# Print the shapes of the transformed data\n",
        "print(f\"Training Data Shape after TF-IDF: {X_train_tfidf.shape}\")\n",
        "print(f\"Testing Data Shape after TF-IDF: {X_test_tfidf.shape}\")\n"
      ],
      "metadata": {
        "colab": {
          "base_uri": "https://localhost:8080/"
        },
        "id": "S7B3Au2U7lQ5",
        "outputId": "eae49169-282e-445b-e02d-c288f38d5c74"
      },
      "execution_count": null,
      "outputs": [
        {
          "output_type": "stream",
          "name": "stdout",
          "text": [
            "Training Data Shape after TF-IDF: (4186, 11632)\n",
            "Testing Data Shape after TF-IDF: (1047, 11632)\n"
          ]
        }
      ]
    },
    {
      "cell_type": "code",
      "source": [
        "from sklearn.feature_extraction.text import TfidfVectorizer\n",
        "vectorizer = TfidfVectorizer(\n",
        "    max_features = 20000,\n",
        "    ngram_range = (1,2),\n",
        "    min_df = 2,\n",
        "    max_df = 0.95\n",
        ")"
      ],
      "metadata": {
        "id": "5vC0ZuUrtY2w"
      },
      "execution_count": null,
      "outputs": []
    },
    {
      "cell_type": "code",
      "source": [
        "x_train_tfidf = vectorizer.fit_transform(X_train)\n",
        "x_test_tfidf= vectorizer.transform(X_train)\n",
        "print(\"\\nTF-IDF Vectorizer vocabulary size:\", len(vectorizer.get_feature_names_out()))\n",
        "print(\"Sample features:\", vectorizer.get_feature_names_out()[:5])"
      ],
      "metadata": {
        "colab": {
          "base_uri": "https://localhost:8080/"
        },
        "id": "iSKPpNSOtcsV",
        "outputId": "7649dd09-9d5f-4020-93a2-8a773e2fba40"
      },
      "execution_count": null,
      "outputs": [
        {
          "output_type": "stream",
          "name": "stdout",
          "text": [
            "\n",
            "TF-IDF Vectorizer vocabulary size: 9155\n",
            "Sample features: ['00' '007' '01' '010' '03']\n"
          ]
        }
      ]
    },
    {
      "cell_type": "code",
      "source": [
        "print(X_train.shape)       # original text\n",
        "print(x_train_tfidf.shape) # after TF-IDF vectorization\n"
      ],
      "metadata": {
        "colab": {
          "base_uri": "https://localhost:8080/"
        },
        "id": "cQLjXhSTtesA",
        "outputId": "8f081ee9-8515-4aa1-dd3a-669f98534e20"
      },
      "execution_count": null,
      "outputs": [
        {
          "output_type": "stream",
          "name": "stdout",
          "text": [
            "(4186,)\n",
            "(4186, 9155)\n"
          ]
        }
      ]
    },
    {
      "cell_type": "code",
      "source": [],
      "metadata": {
        "id": "j3-HqchKtnln"
      },
      "execution_count": null,
      "outputs": []
    }
  ]
}