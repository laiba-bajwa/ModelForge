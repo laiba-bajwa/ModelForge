{
  "nbformat": 4,
  "nbformat_minor": 0,
  "metadata": {
    "colab": {
      "provenance": [],
      "authorship_tag": "ABX9TyMTZNGU1F0yAut6mIaoP5Ib",
      "include_colab_link": true
    },
    "kernelspec": {
      "name": "python3",
      "display_name": "Python 3"
    },
    "language_info": {
      "name": "python"
    }
  },
  "cells": [
    {
      "cell_type": "markdown",
      "metadata": {
        "id": "view-in-github",
        "colab_type": "text"
      },
      "source": [
        "<a href=\"https://colab.research.google.com/github/laiba-bajwa/ModelForge/blob/main/build_ML_classifier's.ipynb\" target=\"_parent\"><img src=\"https://colab.research.google.com/assets/colab-badge.svg\" alt=\"Open In Colab\"/></a>"
      ]
    },
    {
      "cell_type": "code",
      "source": [
        "import string\n",
        "text=\"Hello!!! I love NLP 100%.   \"\n",
        "cleaned=''.join([c for c in text if c not in string.punctuation])\n",
        "print(cleaned.lower().strip())\n",
        "\"\"\"\n",
        "strip():start aur end sy spaces remove krta hai\n",
        "\n",
        "\"\"\"\n",
        "import nltk\n",
        "from nltk.corpus import stopwords\n",
        "from nltk.tokenize import word_tokenize\n",
        "\n",
        "# Download necessary resources\n",
        "nltk.download('punkt_tab')  # Pointing to the 'punkt' tokenizer\n",
        "nltk.download('stopwords')  # Stopwords for filtering\n",
        "\n",
        "# Sample text for tokenization and filtering stopwords\n",
        "text = \"This is a good phone\"\n",
        "\n",
        "# Tokenization\n",
        "tokens = word_tokenize(text)\n",
        "\n",
        "# Stopword removal\n",
        "filtered = [w for w in tokens if w.lower() not in stopwords.words('english')]\n",
        "\n",
        "# Print the filtered list\n",
        "print(filtered)\n",
        "\n",
        "\n"
      ],
      "metadata": {
        "colab": {
          "base_uri": "https://localhost:8080/"
        },
        "id": "M6_myPjIxlsW",
        "outputId": "4381e880-d61b-4b3a-8932-63aa58ee676d"
      },
      "execution_count": null,
      "outputs": [
        {
          "output_type": "stream",
          "name": "stdout",
          "text": [
            "hello i love nlp 100\n"
          ]
        },
        {
          "output_type": "stream",
          "name": "stderr",
          "text": [
            "[nltk_data] Downloading package punkt_tab to /root/nltk_data...\n",
            "[nltk_data]   Unzipping tokenizers/punkt_tab.zip.\n"
          ]
        },
        {
          "output_type": "stream",
          "name": "stdout",
          "text": [
            "['good', 'phone']\n"
          ]
        },
        {
          "output_type": "stream",
          "name": "stderr",
          "text": [
            "[nltk_data] Downloading package stopwords to /root/nltk_data...\n",
            "[nltk_data]   Package stopwords is already up-to-date!\n"
          ]
        }
      ]
    },
    {
      "cell_type": "code",
      "source": [
        "import pandas as pd\n",
        "import numpy as np\n",
        "import matplotlib.pyplot as plt\n",
        "import seaborn as sns\n",
        "import re\n",
        "import string\n",
        "import math\n",
        "import time\n",
        "\n",
        "# Sklearn libraries for machine learning and text processing\n",
        "from sklearn.feature_extraction.text import TfidfVectorizer, CountVectorizer\n",
        "from sklearn.naive_bayes import MultinomialNB\n",
        "from sklearn.linear_model import LogisticRegression\n",
        "from sklearn.model_selection import train_test_split\n",
        "from sklearn import metrics\n",
        "\n",
        "# NLTK libraries for text processing (lemmatization, stemming, stopwords, POS tagging)\n",
        "import nltk\n",
        "from nltk.corpus import stopwords, wordnet\n",
        "from nltk.stem import WordNetLemmatizer, PorterStemmer\n",
        "\n",
        "\n",
        "# Set up visualization\n",
        "%matplotlib inline\n",
        "sns.set_style(\"whitegrid\")\n",
        "plt.style.use(\"fivethirtyeight\")\n",
        "\n",
        "# Download necessary NLTK resources for text processing\n",
        "nltk.download('wordnet')  # WordNet for lemmatization\n",
        "nltk.download('omw-1.4')  # Open Multilingual Wordnet\n",
        "nltk.download('punkt')  # Tokenizer\n",
        "nltk.download('stopwords')  # Stopwords for text cleaning\n",
        "nltk.download('averaged_perceptron_tagger')  # POS tagger for part-of-speech tagging\n",
        "nltk.download('tagsets_json')  # Tagset resource\n"
      ],
      "metadata": {
        "colab": {
          "base_uri": "https://localhost:8080/"
        },
        "id": "hhWkxxQQHk9a",
        "outputId": "29d9387f-b25b-4bb6-80a8-1755395db921"
      },
      "execution_count": null,
      "outputs": [
        {
          "output_type": "stream",
          "name": "stderr",
          "text": [
            "[nltk_data] Downloading package wordnet to /root/nltk_data...\n",
            "[nltk_data] Downloading package omw-1.4 to /root/nltk_data...\n",
            "[nltk_data] Downloading package punkt to /root/nltk_data...\n",
            "[nltk_data]   Package punkt is already up-to-date!\n",
            "[nltk_data] Downloading package stopwords to /root/nltk_data...\n",
            "[nltk_data]   Package stopwords is already up-to-date!\n",
            "[nltk_data] Downloading package averaged_perceptron_tagger to\n",
            "[nltk_data]     /root/nltk_data...\n",
            "[nltk_data]   Unzipping taggers/averaged_perceptron_tagger.zip.\n",
            "[nltk_data] Downloading package tagsets_json to /root/nltk_data...\n",
            "[nltk_data]   Unzipping help/tagsets_json.zip.\n"
          ]
        },
        {
          "output_type": "execute_result",
          "data": {
            "text/plain": [
              "True"
            ]
          },
          "metadata": {},
          "execution_count": 3
        }
      ]
    },
    {
      "cell_type": "code",
      "source": [
        "from google.colab import files #upload krna file\n",
        "upload=files.upload()"
      ],
      "metadata": {
        "colab": {
          "base_uri": "https://localhost:8080/",
          "height": 56
        },
        "id": "fzUUxb1aH61k",
        "outputId": "5e0b30ee-7a73-4e92-e801-45eaa84ce7ae"
      },
      "execution_count": null,
      "outputs": [
        {
          "data": {
            "text/html": [
              "\n",
              "     <input type=\"file\" id=\"files-7da691a2-8a85-4a09-afaf-bc80877dfd86\" name=\"files[]\" multiple disabled\n",
              "        style=\"border:none\" />\n",
              "     <output id=\"result-7da691a2-8a85-4a09-afaf-bc80877dfd86\">\n",
              "      Upload widget is only available when the cell has been executed in the\n",
              "      current browser session. Please rerun this cell to enable.\n",
              "      </output>\n",
              "      <script>// Copyright 2017 Google LLC\n",
              "//\n",
              "// Licensed under the Apache License, Version 2.0 (the \"License\");\n",
              "// you may not use this file except in compliance with the License.\n",
              "// You may obtain a copy of the License at\n",
              "//\n",
              "//      http://www.apache.org/licenses/LICENSE-2.0\n",
              "//\n",
              "// Unless required by applicable law or agreed to in writing, software\n",
              "// distributed under the License is distributed on an \"AS IS\" BASIS,\n",
              "// WITHOUT WARRANTIES OR CONDITIONS OF ANY KIND, either express or implied.\n",
              "// See the License for the specific language governing permissions and\n",
              "// limitations under the License.\n",
              "\n",
              "/**\n",
              " * @fileoverview Helpers for google.colab Python module.\n",
              " */\n",
              "(function(scope) {\n",
              "function span(text, styleAttributes = {}) {\n",
              "  const element = document.createElement('span');\n",
              "  element.textContent = text;\n",
              "  for (const key of Object.keys(styleAttributes)) {\n",
              "    element.style[key] = styleAttributes[key];\n",
              "  }\n",
              "  return element;\n",
              "}\n",
              "\n",
              "// Max number of bytes which will be uploaded at a time.\n",
              "const MAX_PAYLOAD_SIZE = 100 * 1024;\n",
              "\n",
              "function _uploadFiles(inputId, outputId) {\n",
              "  const steps = uploadFilesStep(inputId, outputId);\n",
              "  const outputElement = document.getElementById(outputId);\n",
              "  // Cache steps on the outputElement to make it available for the next call\n",
              "  // to uploadFilesContinue from Python.\n",
              "  outputElement.steps = steps;\n",
              "\n",
              "  return _uploadFilesContinue(outputId);\n",
              "}\n",
              "\n",
              "// This is roughly an async generator (not supported in the browser yet),\n",
              "// where there are multiple asynchronous steps and the Python side is going\n",
              "// to poll for completion of each step.\n",
              "// This uses a Promise to block the python side on completion of each step,\n",
              "// then passes the result of the previous step as the input to the next step.\n",
              "function _uploadFilesContinue(outputId) {\n",
              "  const outputElement = document.getElementById(outputId);\n",
              "  const steps = outputElement.steps;\n",
              "\n",
              "  const next = steps.next(outputElement.lastPromiseValue);\n",
              "  return Promise.resolve(next.value.promise).then((value) => {\n",
              "    // Cache the last promise value to make it available to the next\n",
              "    // step of the generator.\n",
              "    outputElement.lastPromiseValue = value;\n",
              "    return next.value.response;\n",
              "  });\n",
              "}\n",
              "\n",
              "/**\n",
              " * Generator function which is called between each async step of the upload\n",
              " * process.\n",
              " * @param {string} inputId Element ID of the input file picker element.\n",
              " * @param {string} outputId Element ID of the output display.\n",
              " * @return {!Iterable<!Object>} Iterable of next steps.\n",
              " */\n",
              "function* uploadFilesStep(inputId, outputId) {\n",
              "  const inputElement = document.getElementById(inputId);\n",
              "  inputElement.disabled = false;\n",
              "\n",
              "  const outputElement = document.getElementById(outputId);\n",
              "  outputElement.innerHTML = '';\n",
              "\n",
              "  const pickedPromise = new Promise((resolve) => {\n",
              "    inputElement.addEventListener('change', (e) => {\n",
              "      resolve(e.target.files);\n",
              "    });\n",
              "  });\n",
              "\n",
              "  const cancel = document.createElement('button');\n",
              "  inputElement.parentElement.appendChild(cancel);\n",
              "  cancel.textContent = 'Cancel upload';\n",
              "  const cancelPromise = new Promise((resolve) => {\n",
              "    cancel.onclick = () => {\n",
              "      resolve(null);\n",
              "    };\n",
              "  });\n",
              "\n",
              "  // Wait for the user to pick the files.\n",
              "  const files = yield {\n",
              "    promise: Promise.race([pickedPromise, cancelPromise]),\n",
              "    response: {\n",
              "      action: 'starting',\n",
              "    }\n",
              "  };\n",
              "\n",
              "  cancel.remove();\n",
              "\n",
              "  // Disable the input element since further picks are not allowed.\n",
              "  inputElement.disabled = true;\n",
              "\n",
              "  if (!files) {\n",
              "    return {\n",
              "      response: {\n",
              "        action: 'complete',\n",
              "      }\n",
              "    };\n",
              "  }\n",
              "\n",
              "  for (const file of files) {\n",
              "    const li = document.createElement('li');\n",
              "    li.append(span(file.name, {fontWeight: 'bold'}));\n",
              "    li.append(span(\n",
              "        `(${file.type || 'n/a'}) - ${file.size} bytes, ` +\n",
              "        `last modified: ${\n",
              "            file.lastModifiedDate ? file.lastModifiedDate.toLocaleDateString() :\n",
              "                                    'n/a'} - `));\n",
              "    const percent = span('0% done');\n",
              "    li.appendChild(percent);\n",
              "\n",
              "    outputElement.appendChild(li);\n",
              "\n",
              "    const fileDataPromise = new Promise((resolve) => {\n",
              "      const reader = new FileReader();\n",
              "      reader.onload = (e) => {\n",
              "        resolve(e.target.result);\n",
              "      };\n",
              "      reader.readAsArrayBuffer(file);\n",
              "    });\n",
              "    // Wait for the data to be ready.\n",
              "    let fileData = yield {\n",
              "      promise: fileDataPromise,\n",
              "      response: {\n",
              "        action: 'continue',\n",
              "      }\n",
              "    };\n",
              "\n",
              "    // Use a chunked sending to avoid message size limits. See b/62115660.\n",
              "    let position = 0;\n",
              "    do {\n",
              "      const length = Math.min(fileData.byteLength - position, MAX_PAYLOAD_SIZE);\n",
              "      const chunk = new Uint8Array(fileData, position, length);\n",
              "      position += length;\n",
              "\n",
              "      const base64 = btoa(String.fromCharCode.apply(null, chunk));\n",
              "      yield {\n",
              "        response: {\n",
              "          action: 'append',\n",
              "          file: file.name,\n",
              "          data: base64,\n",
              "        },\n",
              "      };\n",
              "\n",
              "      let percentDone = fileData.byteLength === 0 ?\n",
              "          100 :\n",
              "          Math.round((position / fileData.byteLength) * 100);\n",
              "      percent.textContent = `${percentDone}% done`;\n",
              "\n",
              "    } while (position < fileData.byteLength);\n",
              "  }\n",
              "\n",
              "  // All done.\n",
              "  yield {\n",
              "    response: {\n",
              "      action: 'complete',\n",
              "    }\n",
              "  };\n",
              "}\n",
              "\n",
              "scope.google = scope.google || {};\n",
              "scope.google.colab = scope.google.colab || {};\n",
              "scope.google.colab._files = {\n",
              "  _uploadFiles,\n",
              "  _uploadFilesContinue,\n",
              "};\n",
              "})(self);\n",
              "</script> "
            ],
            "text/plain": [
              "<IPython.core.display.HTML object>"
            ]
          },
          "metadata": {},
          "output_type": "display_data"
        }
      ]
    },
    {
      "cell_type": "code",
      "source": [
        "import pandas as pd#use hi iss liye hota h\n",
        "dev_test=pd.read_csv('en_train.csv')# manipulate krrna\n",
        "print(dev_test.head())#by default 5 nazar ay gy\n",
        "dev_test.columns #(kon kon sy hai )\n",
        "dev_test.shape #(rows,columns)\n",
        "dev_test['text'] #specfic columns"
      ],
      "metadata": {
        "id": "Twk98QsSIQS2"
      },
      "execution_count": null,
      "outputs": []
    },
    {
      "cell_type": "code",
      "source": [
        "import nltk\n",
        "import string\n",
        "from nltk.corpus import stopwords\n",
        "nltk.download('stopwords')\n",
        "\n",
        "def preprocess(tweet):\n",
        "  #built function check if object of the class exist ky nhi\n",
        "\n",
        "  #isinstance(object(want to check),classinfo(want to check against ))\n",
        "    if not isinstance(tweet,str):\n",
        "        return \"\"\n",
        "\n",
        "    #lowercase\n",
        "    tweet=tweet.lower()\n",
        "    #define stopwords\n",
        "    STOPWORDS=set(stopwords.words('english')+ ['u', 'ü', 'ur', '4', '2', 'im', 'dont', 'doin', 'ure'])\n",
        "    #remove punctation\n",
        "    nonpunc=''.join([c for c in tweet if c not in string.punctuation])\n",
        "    #remove stopwords\n",
        "    cleaned=''.join([words for words in nonpunc.split() if words not in STOPWORDS])\n",
        "    return cleaned\n",
        "\n",
        "\n"
      ],
      "metadata": {
        "id": "WFAwrnjgIqIm"
      },
      "execution_count": null,
      "outputs": []
    },
    {
      "cell_type": "code",
      "source": [
        "dev_test['new_columns']=dev_test['text'].apply(preprocess)\n",
        "dev_test.head()\n",
        "from collections import Counter\n",
        "tokenized_tweets=dev_test['new_columns'].apply(lambda tweet:tweet.split())\n",
        "\"\"\"\n",
        "✅ Example:\n",
        "Agar ek tweet hai \"I love AI\"\n",
        "to ye ban jayega [\"I\", \"love\", \"AI\"]\n",
        "\"\"\"\n",
        "all_tokens=[words for tokens in tokenized_tweets for words in tokens]\n",
        "\n",
        "\"\"\"\n",
        "✅ Example:\n",
        "\n",
        "python\n",
        "Copy\n",
        "Edit\n",
        "[['I', 'love'], ['AI', 'rocks']] → ['I', 'love', 'AI', 'rocks']\n",
        "\"\"\"\n",
        "token_counter=Counter(all_tokens)\n",
        "\"\"\"\n",
        "Counter har unique word ko count karta hai.\n",
        "\n",
        "Example: Agar 'AI' 10 baar aya hai, to Counter store karega 'AI': 10\n",
        "\"\"\"\n",
        "print(token_counter.most_common(2))"
      ],
      "metadata": {
        "id": "w9I9clgcLpJs"
      },
      "execution_count": null,
      "outputs": []
    },
    {
      "cell_type": "code",
      "source": [
        "\"\"\"🛠️ Feature Engineering = Data se new useful columns ya insights nikaalna jo\n",
        "machine learning model ko training mein help karen.\"\"\""
      ],
      "metadata": {
        "id": "x58f9fO9Wa9A"
      },
      "execution_count": null,
      "outputs": []
    },
    {
      "cell_type": "code",
      "source": [
        "dev_test['msg_len']=dev_test['new_columns'].apply(lambda tweet: len(tweet.split()))\n",
        "\n",
        "\n",
        "\"\"\"\n",
        "x.split() → har tweet ko words mein tod raha hai.\n",
        "\n",
        "len(...) → us tweet mein total words gin raha hai.\n",
        "\n",
        "apply(...) → har row pe yeh operation apply ho raha hai.\n",
        "\n",
        "Naya column message_len ban gaya jismein har tweet ka word count hai.\n",
        "\n",
        "🔁 Har row pe kya hoga:\n",
        "1. \"I love data science\"\n",
        "→ tweet.split() = ['I', 'love', 'data', 'science']\n",
        "→ len(...) = 4\n",
        "\"\"\""
      ],
      "metadata": {
        "id": "ubFLWTavWdVO"
      },
      "execution_count": null,
      "outputs": []
    },
    {
      "cell_type": "code",
      "source": [
        "overall_avg = dev_test['msg_len'].mean()\n",
        "print(\"Overall average tweet length (in words):\", overall_avg)\n",
        "\n",
        "print(dev_test.columns)\n",
        "avg_per_sentiment = dev_test.groupby('binary')['msg_len'].mean()\n",
        "\n",
        "\"\"\"\n",
        "Maan lijiye df_train ka data aisa hai:\n",
        "\n",
        "clean_tweets\tbinary\tmessage_len\n",
        "I love it\t     1\t       3\n",
        "Not good\t     0\t       2\n",
        "\"\"\"\n",
        "avg_per_sentiment = dev_test.groupby('binary')['msg_len'].mean()\n",
        "print(\"Average tweet length by sentiment:\")\n",
        "print(avg_per_sentiment)"
      ],
      "metadata": {
        "id": "7Z0nvGNgWead"
      },
      "execution_count": null,
      "outputs": []
    },
    {
      "cell_type": "code",
      "source": [
        "import matplotlib.pyplot as plt\n",
        "\n",
        "plt.figure(figsize=(10,7))\n",
        "\n",
        "#Is method se aap different tarah ke plots (line, bar, histogram, etc.\n",
        "#matplotlib aur pandas use hoti h\n",
        "dev_test[dev_test.binary =='Hope'].msg_len.plot(\n",
        "    bins=50, #intervals\n",
        "    kind='hist',\n",
        "    color='yellow',\n",
        "    alpha=0.5,\n",
        "    label='Hope'\n",
        ")\n",
        "dev_test[dev_test.binary =='Not Hope'].msg_len.plot(\n",
        "    bins=50, #intervals\n",
        "    kind='hist',\n",
        "    color='blue',\n",
        "    alpha=0.5,\n",
        "    label='Hope'\n",
        ")\n",
        "dev_test[dev_test.multiclass== 'Generalized Hope\t'].msg_len.plot(\n",
        "    bins=50,\n",
        "    kind='hist',\n",
        "    color='green',\n",
        "    alpha=0.5,\n",
        "    label='Generalized Hope\t'\n",
        ")\n",
        "\n",
        "# Not Hope tweets ka histogram\n",
        "dev_test[dev_test.multiclass == 'Sarcasm'].msg_len.plot(\n",
        "    bins=50,\n",
        "    kind='hist',\n",
        "    color='red',\n",
        "    alpha=0.5,\n",
        "    label='Sarcasm\t'\n",
        ")\n",
        "#show\n",
        "\n",
        "import matplotlib.pyplot as plt\n",
        "\n",
        "plt.legend() #small box create ho jaye ga\n",
        "plt.title(\"Tweet Length Distribution: Hope vs Not Hope\")#above the graph\n",
        "plt.xlabel(\"Number of Words\")#on x aixs\n",
        "plt.ylabel(\"Frequency\")#on y aixs\n",
        "plt.show()#to show\n",
        "\n"
      ],
      "metadata": {
        "id": "CveV_dMwXU3S"
      },
      "execution_count": null,
      "outputs": []
    },
    {
      "cell_type": "markdown",
      "source": [],
      "metadata": {
        "id": "LhRxHzpLMzGi"
      }
    },
    {
      "cell_type": "code",
      "source": [
        "import re\n",
        "import string\n",
        "\n",
        "#regular expression\n",
        "doc=[\n",
        "     \"Hello world today.\",\n",
        "    \"Learning AI is fun.\",\n",
        "    \"AI helps solve problems.\"\n",
        "]\n",
        "def procces(doc,stopwords=set()):\n",
        "  if not isinstance(doc,str):\n",
        "    return \"\"\n",
        "  doc=doc.lower()\n",
        "  doc=re.sub(r\"[^\\w\\s]\",\" \",doc)\n",
        "  tokens = [tok for tok in doc.split() if tok and tok not in stopwords]\n",
        "  print(\"Tokens:\", tokens)   # yahan print ho ga\n",
        "  return tokens\n",
        "  #example\n",
        "  \"\"\"\n",
        "  Hello, how are you?\n",
        "Regex [^\\w\\s] ke saath match honge:\n",
        "\n",
        ", (comma) aur ? (question mark).\n",
        "\n",
        "Yani, punctuation marks ko match kar raha hai, kyunki ye letters, digits, ya spaces mein nahi aate.\n",
        "\"\"\"\n",
        "\n",
        "\n"
      ],
      "metadata": {
        "id": "D-s7FnI9ajge"
      },
      "execution_count": null,
      "outputs": []
    },
    {
      "cell_type": "code",
      "source": [
        "from sklearn.feature_extraction.text import ENGLISH_STOP_WORDS\n",
        "stopwords = ENGLISH_STOP_WORDS\n",
        "\n",
        "#stopwords = ENGLISH_STOP_WORDS\n",
        "tokens_per_doc = [procces(d, stopwords) for d in doc]\n",
        "print(tokens_per_doc)"
      ],
      "metadata": {
        "id": "PSZutB_YepPe"
      },
      "execution_count": null,
      "outputs": []
    },
    {
      "cell_type": "code",
      "source": [
        "df_tokens = pd.DataFrame({\n",
        "    \"Document\": [f\"Doc {i+1}\" for i in range(len(doc))],\n",
        "    \"Tokens\": tokens_per_doc\n",
        "})\n",
        "print(\"=== Tokens ===\")\n",
        "#index false means index nhi aye gy\n",
        "print(df_tokens.to_string(index=False), \"\\n\")\n"
      ],
      "metadata": {
        "id": "HQAb_0l7e4Pg"
      },
      "execution_count": null,
      "outputs": []
    },
    {
      "cell_type": "code",
      "source": [
        "docs_processed = [\" \".join(tokens) for tokens in tokens_per_doc] # importent step\n",
        "\n",
        "\"\"\"\n",
        "tokens_per_doc = [['ai', 'fun'], ['learning', 'machine'], ['nlp', 'cool']]\n",
        "docs_processed = [\" \".join(tokens) for tokens in tokens_per_doc]\n",
        "print(docs_processed)\n",
        "\n",
        "['ai fun', 'learning machine', 'nlp cool']\n",
        "\n",
        "\"\"\"\n",
        "from sklearn.feature_extraction.text import CountVectorizer\n",
        "\n",
        "# Step 1: Sample text\n",
        "corpus = [\"I love NLP\", \"NLP is fun\"]\n",
        "\n",
        "# Step 2: Initialize CountVectorizer\n",
        "vectorizer = CountVectorizer()\n",
        "\n",
        "# Step 3: Fit and transform the text\n",
        "X = vectorizer.fit_transform(corpus)\n",
        "\n",
        "# Step 4: Convert to array and show feature names\n",
        "print(\"Vocabulary:\", vectorizer.get_feature_names_out())\n",
        "print(\"BoW Matrix:\\n\", X.toarray())"
      ],
      "metadata": {
        "id": "ouJKBJrOe68U"
      },
      "execution_count": null,
      "outputs": []
    },
    {
      "cell_type": "code",
      "source": [
        "#TF-ID\n",
        "from sklearn.feature_extraction.text import TfidfVectorizer\n",
        "corpus = [\n",
        "    \"I love machine learning\",\n",
        "    \"machine learning is amazing\",\n",
        "    \"I enjoy deep learning and AI\"\n",
        "]\n",
        "\n",
        "vectorizer=TfidfVectorizer(ngram_range=(2,2))\n",
        "X=vectorizer.fit_transform(corpus)\n",
        "print(\"Vocab =\",vectorizer.get_feature_names_out())\n",
        "print(\"TF-IDF Matrix:\\n\", X.toarray())"
      ],
      "metadata": {
        "id": "CGf-AliskzGc"
      },
      "execution_count": null,
      "outputs": []
    }
  ]
}